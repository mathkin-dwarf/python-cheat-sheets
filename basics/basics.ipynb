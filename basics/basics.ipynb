{
 "cells": [
  {
   "cell_type": "markdown",
   "metadata": {},
   "source": [
    "## import"
   ]
  },
  {
   "cell_type": "code",
   "execution_count": null,
   "metadata": {},
   "outputs": [],
   "source": [
    "# importしなかった場合\n",
    "math.pi"
   ]
  },
  {
   "cell_type": "code",
   "execution_count": null,
   "metadata": {},
   "outputs": [],
   "source": [
    "# importした場合\n",
    "import math\n",
    "math.pi"
   ]
  },
  {
   "cell_type": "code",
   "execution_count": null,
   "metadata": {},
   "outputs": [],
   "source": [
    "# 特定の定数のみimport\n",
    "from math import pi\n",
    "pi"
   ]
  },
  {
   "cell_type": "code",
   "execution_count": null,
   "metadata": {},
   "outputs": [],
   "source": [
    "# 特定の関数のみimport\n",
    "# radians : 角度を弧度に変換する関数\n",
    "from math import radians\n",
    "radians(90)"
   ]
  },
  {
   "cell_type": "markdown",
   "metadata": {},
   "source": [
    "## インデックス（index）\n",
    "\n",
    "後述の文字列およびコレクションの特定の位置の要素を指定するときに「インデックス（index）」を用いることがある。  \n",
    "インデックスは「0」から始まり、最後のアイテムのインデックスは「文字列またはコレクションの長さ-1」となる。"
   ]
  },
  {
   "cell_type": "markdown",
   "metadata": {},
   "source": [
    "### 文字列におけるインデックス"
   ]
  },
  {
   "cell_type": "code",
   "execution_count": null,
   "metadata": {},
   "outputs": [],
   "source": [
    "str_sample = '1234567890'\n",
    "\n",
    "str_0 = str_sample[0]\n",
    "str_5 = str_sample[5]\n",
    "str_last = str_sample[len(str_sample)-1]\n",
    "\n",
    "print(f'str_0     : {str_0} - インデックス0 = 1番目の文字の取得')\n",
    "print(f'str_5     : {str_5} - インデックス5 = 6番目の文字の取得')\n",
    "print(f'str_last  : {str_last} - インデックス[文字列の長さ - 1] = 最後の文字の取得')"
   ]
  },
  {
   "cell_type": "markdown",
   "metadata": {},
   "source": [
    "### リストにおけるインデックス"
   ]
  },
  {
   "cell_type": "code",
   "execution_count": null,
   "metadata": {},
   "outputs": [],
   "source": [
    "list_sample = ['111', '222', '333', '444', '555', '666', '777', '888', '999', '000']\n",
    "\n",
    "list_0 = list_sample[0]\n",
    "list_3 = list_sample[3]\n",
    "list_last = list_sample[len(list_sample)-1]\n",
    "\n",
    "print(f'list_0    : {list_0} - インデックス0 = 1番目の要素の取得')\n",
    "print(f'list_5    : {list_3} - インデックス3 = 4番目の要素の取得')\n",
    "print(f'list_last : {list_last} - インデックス[文字列の長さ - 1] = 最後の要素の取得')"
   ]
  },
  {
   "cell_type": "markdown",
   "metadata": {},
   "source": [
    "## 文字列処理"
   ]
  },
  {
   "cell_type": "code",
   "execution_count": null,
   "metadata": {},
   "outputs": [],
   "source": [
    "# 16文字\n",
    "str_sample_1 = '0123456789abcdef'\n",
    "# 16文字（アンダースコア入り）\n",
    "str_sample_2 = '01234_6789ab_def'\n",
    "# 20文字\n",
    "str_sample_20 = '0123456789abcdefghij'"
   ]
  },
  {
   "cell_type": "markdown",
   "metadata": {},
   "source": [
    "### 分割処理\n",
    "\n",
    "任意の文字列で文字列を分割する。分割に用いる文字列は複数文字でもよい。"
   ]
  },
  {
   "cell_type": "code",
   "execution_count": null,
   "metadata": {},
   "outputs": [],
   "source": [
    "# 文字「7」を区切りに分解\n",
    "divided_sample_1 = str_sample_1.split('7')\n",
    "print(f'divided_sample_1 : {divided_sample_1} ←区切りとなった「7」は含まれない')\n",
    "\n",
    "# 文字「_」を区切りに分解\n",
    "divided_sample_2 = str_sample_2.split('_')\n",
    "print(f'divided_sample_2 : {divided_sample_2} ←区切りとなった「_」は含まれない')"
   ]
  },
  {
   "cell_type": "markdown",
   "metadata": {},
   "source": [
    "### 検索処理\n",
    "\n",
    "任意の文字列を検索する。"
   ]
  },
  {
   "cell_type": "code",
   "execution_count": null,
   "metadata": {},
   "outputs": [],
   "source": [
    "# 検索対象の文字列に検索文字列が含まれる場合\n",
    "found_sample_1 = str_sample_1.find('9ab')\n",
    "print(f'found_sample_1 : {found_sample_1} ←見つかった文字列先頭のインデックスが取得される')\n",
    "\n",
    "# 文字「_」を区切りに分解\n",
    "found_sample_2 = str_sample_1.find('bs9')\n",
    "print(f'found_sample_2 : {found_sample_2} ←見つからなかった場合は「-1」が取得される')"
   ]
  },
  {
   "cell_type": "markdown",
   "metadata": {},
   "source": [
    "### スライス処理\n",
    "\n",
    "文字列から任意の範囲の切り抜きを行う。"
   ]
  },
  {
   "cell_type": "code",
   "execution_count": null,
   "metadata": {},
   "outputs": [],
   "source": [
    "# 4文字目から11文字目まで(index : 3~10, string : '3456789a' )を取得\n",
    "str_4_11 = str_sample_20[3:11]\n",
    "print(f'str_4_11    : str_sample_20[3:10] : {str_4_11}')\n",
    "\n",
    "# 先頭から7文字目まで(index : 0~7, string : '0123456' )を取得\n",
    "str_begin_7 = str_sample_20[:7]\n",
    "print(f'str_begin_7 : str_sample_20[:7]   : {str_begin_7}')\n",
    "str_0_7 = str_sample_20[0:7]\n",
    "print(f'str_0_7     : str_sample_20[0:7]  : {str_0_7}')\n",
    "\n",
    "print(f'    →「str_sample_20[:7]」と「str_sample_20[0:7]」は同じ処理になる')\n",
    "\n",
    "# 9文字目から最後までを(index : 8~19, string : '3456789b' )取得\n",
    "str_9_end = str_sample_20[8:]\n",
    "print(f'str_9_end   : str_sample_20[8:]   : {str_9_end}')\n",
    "\n",
    "str_9_19 = str_sample_20[8:20]\n",
    "print(f'str_9_19    : str_sample_20[8:20] : {str_9_19}')\n",
    "\n",
    "print(f'    →「str_sample_20[8:]」と「str_sample_20[8:20]」は同じ処理になる')"
   ]
  },
  {
   "cell_type": "markdown",
   "metadata": {},
   "source": [
    "## コレクション（リスト、タプル、辞書）\n",
    "\n",
    "- リスト : 順番を維持して各要素の集合を表現するコレクション。インデックスで参照する。\n",
    "- タプル : 内容を変更できないリスト。インデックスで参照する。\n",
    "- 辞書　 : 順番を維持せずに各要素の集合を維持するコレクション。キーで参照する。"
   ]
  },
  {
   "cell_type": "markdown",
   "metadata": {},
   "source": [
    "### リスト\n",
    "\n",
    "順番を維持して各要素の集合を表現するコレクション。インデックスで参照する。"
   ]
  },
  {
   "cell_type": "code",
   "execution_count": null,
   "metadata": {},
   "outputs": [],
   "source": [
    "l = [\"1-1\", \"1-2\", \"1-3\", \"1-4\", \"1-5\"]\n",
    "\n",
    "#各要素へのアクセス\n",
    "print(l[1]) \n",
    "\n",
    "# 長さの取得\n",
    "print(len(l))"
   ]
  },
  {
   "cell_type": "code",
   "execution_count": null,
   "metadata": {},
   "outputs": [],
   "source": [
    "print(l)\n",
    "# 要素の追加\n",
    "l.append(\"1-7\")\n",
    "\n",
    "print(l)\n",
    "\n",
    "# 要素の指定位置への挿入\n",
    "l.insert(5, \"1-6\")\n",
    "\n",
    "print(l)"
   ]
  },
  {
   "cell_type": "code",
   "execution_count": null,
   "metadata": {},
   "outputs": [],
   "source": [
    "# 要素が含まれるかの判定\n",
    "print(\"1-2\" in l) # ⇒ True\n",
    "print(\"1-8\" in l) # ⇒ False"
   ]
  },
  {
   "cell_type": "code",
   "execution_count": null,
   "metadata": {},
   "outputs": [],
   "source": [
    "# 要素の切り出し\n",
    "#インデックス2からインデックス4まで（4は含まない）\n",
    "print(l[2:4])\n",
    "#インデックス2から末尾まで\n",
    "print(l[2:])\n",
    "#先頭からインデックス4まで（4は含まない）\n",
    "print(l[:4])\n",
    "#2つおきに取得\n",
    "print(l[::2])"
   ]
  },
  {
   "cell_type": "markdown",
   "metadata": {},
   "source": [
    "### タプル\n",
    "\n",
    "内容を変更できないリスト。インデックスで参照する。"
   ]
  },
  {
   "cell_type": "code",
   "execution_count": null,
   "metadata": {},
   "outputs": [],
   "source": [
    "t = (\"1-1\", \"1-2\", \"1-3\", \"1-4\", \"1-5\")\n",
    "print(t)"
   ]
  },
  {
   "cell_type": "code",
   "execution_count": null,
   "metadata": {},
   "outputs": [],
   "source": [
    "# 要素の追加など、変更しようとするとエラーになる\n",
    "t.append(\"1-6\")"
   ]
  },
  {
   "cell_type": "markdown",
   "metadata": {},
   "source": [
    "### 辞書(Dictionary)\n",
    "\n",
    "順番を維持せずに各要素の集合を維持するコレクション。キーで参照する。"
   ]
  },
  {
   "cell_type": "code",
   "execution_count": null,
   "metadata": {},
   "outputs": [],
   "source": [
    "d = {\n",
    "    \"key\" : \"value\", \n",
    "    \"A\" : \"13歳\", \n",
    "    \"B\" : \"15歳\"\n",
    "}\n",
    "print(d)"
   ]
  },
  {
   "cell_type": "code",
   "execution_count": null,
   "metadata": {},
   "outputs": [],
   "source": [
    "# 要素の追加 存在しないキーに対して値を設定すると追加される\n",
    "d[\"C\"] = \"16歳\"\n",
    "print(d)"
   ]
  },
  {
   "cell_type": "code",
   "execution_count": null,
   "metadata": {},
   "outputs": [],
   "source": [
    "# 要素の変更 存在するキーに対して値を設定すると変更される\n",
    "d[\"A\"] = \"14歳\"\n",
    "print(d)"
   ]
  },
  {
   "cell_type": "code",
   "execution_count": null,
   "metadata": {},
   "outputs": [],
   "source": [
    "# キーが存在するかの判定\n",
    "print(\"A\" in d) # ⇒ True\n",
    "print(\"D\" in d) # ⇒ False"
   ]
  },
  {
   "cell_type": "code",
   "execution_count": null,
   "metadata": {},
   "outputs": [],
   "source": [
    "# 値の取得\n",
    "# キーが存在する場合\n",
    "print(a.get(\"A\"))\n",
    "# キーが存在しない場合\n",
    "print(a.get(\"D\"))"
   ]
  },
  {
   "cell_type": "markdown",
   "metadata": {},
   "source": [
    "## 長さの取得"
   ]
  },
  {
   "cell_type": "code",
   "execution_count": null,
   "metadata": {},
   "outputs": [],
   "source": [
    "# 文字列（16文字）\n",
    "str_sample = '0123456789abcdef'\n",
    "\n",
    "len_sample = len(str_sample)\n",
    "print(f'str_sample : {str_sample}\\nlength : {len_sample}')\n"
   ]
  },
  {
   "cell_type": "code",
   "execution_count": null,
   "metadata": {},
   "outputs": [],
   "source": [
    "# リスト（4つ）\n",
    "list_sample = ['January', 'February', 'March', 'April']\n",
    "\n",
    "len_sample = len(list_sample)\n",
    "print(f'list_sample : {list_sample}\\nlength : {len_sample}')"
   ]
  },
  {
   "cell_type": "code",
   "execution_count": null,
   "metadata": {},
   "outputs": [],
   "source": [
    "# タプル(2つ)\n",
    "tuple_sample = ('me', 'you')\n",
    "\n",
    "len_sample = len(tuple_sample)\n",
    "print(f'tuple_sample : {tuple_sample}\\nlength : {len_sample}')"
   ]
  },
  {
   "cell_type": "code",
   "execution_count": null,
   "metadata": {},
   "outputs": [],
   "source": [
    "# 辞書(3つ)\n",
    "dict_sample = {\n",
    "    'first': 'Perl', \n",
    "    'second': 'Ruby', \n",
    "    'third': 'Python'\n",
    "}\n",
    "\n",
    "len_sample = len(dict_sample)\n",
    "print(f'dict_sample : {dict_sample}\\nlength : {len_sample}')"
   ]
  },
  {
   "cell_type": "markdown",
   "metadata": {},
   "source": [
    "## print関数\n"
   ]
  },
  {
   "cell_type": "code",
   "execution_count": null,
   "metadata": {},
   "outputs": [],
   "source": [
    "# 文字列\n",
    "print('this is a pen.')\n",
    "\n",
    "string = 'this is a pen from variable.'\n",
    "print(string)\n",
    "\n",
    "# シングルクオートでもダブルクオートでも問題ない\n",
    "print(\"this is a pen in double quote.\")"
   ]
  },
  {
   "cell_type": "code",
   "execution_count": null,
   "metadata": {},
   "outputs": [],
   "source": [
    "# 数値\n",
    "print(100)\n",
    "\n",
    "value = 200\n",
    "print(value)"
   ]
  },
  {
   "cell_type": "code",
   "execution_count": null,
   "metadata": {},
   "outputs": [],
   "source": [
    "# リスト\n",
    "# 数値\n",
    "val_list = [0, 1, 2]\n",
    "# 全てを出力\n",
    "print(val_list)\n",
    "# 要素を出力\n",
    "print(val_list[2])\n",
    "\n",
    "# 文字列\n",
    "str_list = ['zero', 'one', 'two']\n",
    "# 全てを出力\n",
    "print(str_list)\n",
    "# 要素を出力\n",
    "print(str_list[1])"
   ]
  },
  {
   "cell_type": "code",
   "execution_count": null,
   "metadata": {},
   "outputs": [],
   "source": [
    "# タプル\n",
    "val_tuple = (10,11,12)\n",
    "# 全てを出力\n",
    "print(val_tuple)\n",
    "# 要素を出力\n",
    "print(val_tuple[0])\n",
    "\n",
    "# 文字列\n",
    "str_tuple = ('ten', 'eleven', 'twelve')\n",
    "# 全てを出力\n",
    "print(str_tuple)\n",
    "# 要素を出力\n",
    "print(str_tuple[0])\n"
   ]
  },
  {
   "cell_type": "code",
   "execution_count": null,
   "metadata": {},
   "outputs": [],
   "source": [
    "# 辞書\n",
    "dictionary = {\n",
    "    'index': 12, \n",
    "    'name': 'string',\n",
    "    'value': (3,4)\n",
    "}\n",
    "# 全てを出力\n",
    "print(dictionary)\n",
    "\n",
    "# 要素を出力\n",
    "print(dictionary['name'])"
   ]
  },
  {
   "cell_type": "code",
   "execution_count": null,
   "metadata": {},
   "outputs": [],
   "source": [
    "# 変数を文字列に埋め込んで出力 : パーセント%を使うprintf形式\n",
    "s = 'Alice'\n",
    "i = 25\n",
    "print('%s is %d years old' % (s, i))"
   ]
  },
  {
   "cell_type": "code",
   "execution_count": null,
   "metadata": {},
   "outputs": [],
   "source": [
    "# 変数を文字列に埋め込んで出力 : 文字列メソッドformat()\n",
    "s = 'Alice'\n",
    "i = 25\n",
    "print('{} is {} years old'.format(s, i))\n",
    "\n",
    "# インデックスを指定\n",
    "print('{0} is {1} years old / {0}{0}{0}'.format(s, i))\n",
    "\n",
    "# キーワード引数として指定\n",
    "print('{name} is {age} years old / {age}{age}{age}'.format(name=s, age=i))"
   ]
  },
  {
   "cell_type": "code",
   "execution_count": null,
   "metadata": {},
   "outputs": [],
   "source": [
    "# 変数を文字列に埋め込んで出力 : f文字列（フォーマット文字列）\n",
    "s = 'Alice'\n",
    "i = 25\n",
    "\n",
    "print(f'{s} is {i} years old')"
   ]
  },
  {
   "cell_type": "markdown",
   "metadata": {},
   "source": [
    "## 条件分岐"
   ]
  },
  {
   "cell_type": "code",
   "execution_count": null,
   "metadata": {},
   "outputs": [],
   "source": [
    "# if 条件式1:\n",
    "#     '条件式1がTrueのときに行う処理'\n",
    "# elif 条件式2:\n",
    "#     '条件式1がFalseで条件式2がTrueのときに行う処理'\n",
    "# elif 条件式3:\n",
    "#     '条件式1, 2がFalseで条件式3がTrueのときに行う処理'\n",
    "# ...\n",
    "# else:\n",
    "#     'すべての条件式がFalseのときに行う処理'\n",
    "\n",
    "l = [11,24,3,14,32,6]\n",
    "if 2 in l:\n",
    "    print('リストに2が含まれています')\n",
    "elif 16 in l:\n",
    "    print('リストに16が含まれています')\n",
    "elif 24 in l:\n",
    "    print('リストに24が含まれています')\n",
    "else:\n",
    "    print('どの条件にも当てはまりませんでした')"
   ]
  },
  {
   "cell_type": "code",
   "execution_count": null,
   "metadata": {},
   "outputs": [],
   "source": [
    "# 比較演算子\n",
    "def if_test(num):\n",
    "    if num >= 100:  # numが100以上（100を含む）\n",
    "        print(f'100 <= num({num})')\n",
    "    elif num >= 50: # numが50より大きい（50を含む）\n",
    "        print(f'50 <= num({num}) < 100')\n",
    "    elif num > 0:   # numが0より大きい（0を含まない）\n",
    "        print(f'0 < num({num}) <= 50')\n",
    "    elif num == 0:  # numが0である\n",
    "        print(f'num({num}) == 0')\n",
    "    else:           # numが0より小さい\n",
    "        print(f'num({num}) < 0')\n",
    "\n",
    "if_test(1000)\n",
    "\n",
    "if_test(70)\n",
    "\n",
    "if_test(0)\n",
    "\n",
    "if_test(-100)"
   ]
  },
  {
   "cell_type": "code",
   "execution_count": null,
   "metadata": {},
   "outputs": [],
   "source": [
    "# 論理演算子\n",
    "def if_test_and_not(num):\n",
    "    if num >= 0 and not num % 2 == 1:   # 0以上の奇数\n",
    "        print('num is positive odd')\n",
    "    else:\n",
    "        print('num is NOT positive odd')\n",
    "\n",
    "if_test_and_not(5)\n",
    "\n",
    "if_test_and_not(10)\n",
    "\n",
    "if_test_and_not(-10)"
   ]
  },
  {
   "cell_type": "markdown",
   "metadata": {},
   "source": [
    "## 繰り返し処理"
   ]
  },
  {
   "cell_type": "markdown",
   "metadata": {},
   "source": [
    "### for文による繰り返し"
   ]
  },
  {
   "cell_type": "code",
   "execution_count": null,
   "metadata": {},
   "outputs": [],
   "source": [
    "# 基本の繰り返し処理\n",
    "l = ['Alice', 'Bob', 'Charlie']\n",
    "\n",
    "for name in l:\n",
    "    print(name)"
   ]
  },
  {
   "cell_type": "code",
   "execution_count": null,
   "metadata": {},
   "outputs": [],
   "source": [
    "# for文を途中で終了する「break」\n",
    "l = ['Alice', 'Bob', 'Charlie']\n",
    "\n",
    "for name in l:\n",
    "    if name == 'Bob':\n",
    "        print('!!BREAK!!')\n",
    "        break\n",
    "    print(name)"
   ]
  },
  {
   "cell_type": "code",
   "execution_count": null,
   "metadata": {},
   "outputs": [],
   "source": [
    "# その時点以降の処理をスキップする「continue」\n",
    "l = ['Alice', 'Bob', 'Charlie']\n",
    "\n",
    "for name in l:\n",
    "    if name == 'Bob':\n",
    "        print('!!SKIP!!')\n",
    "        continue\n",
    "    print(name)"
   ]
  },
  {
   "cell_type": "code",
   "execution_count": null,
   "metadata": {},
   "outputs": [],
   "source": [
    "# インデックスで繰り返す「range()」\n",
    "l = ['Alice', 'Bob', 'Charlie']\n",
    "for i in range(len(l)):\n",
    "    print(i)\n",
    "    print(l[i])"
   ]
  },
  {
   "cell_type": "code",
   "execution_count": null,
   "metadata": {},
   "outputs": [],
   "source": [
    "# リストの要素とインデックスを同時に取得して繰り返す「enumerate()」\n",
    "l = ['Alice', 'Bob', 'Charlie']\n",
    "n = [12, 34, 56]\n",
    "\n",
    "for name in l:\n",
    "    print(name)\n",
    "\n",
    "for index, number in enumerate(n):\n",
    "    print(index, number)"
   ]
  },
  {
   "cell_type": "code",
   "execution_count": null,
   "metadata": {},
   "outputs": [],
   "source": [
    "# 辞書における繰り返し\n",
    "d = {'key1': 1, 'key2': 2, 'key3': 3}\n",
    "\n",
    "# キーのみの取得\n",
    "for k in d:\n",
    "    print(k)\n",
    "\n",
    "# 値のみの取得\n",
    "for v in d.values():\n",
    "    print(v)\n",
    "\n",
    "# キーと値両方の取得\n",
    "for k, v in d.items():\n",
    "    print(k, v)"
   ]
  },
  {
   "cell_type": "markdown",
   "metadata": {},
   "source": [
    "### while文による繰り返し"
   ]
  },
  {
   "cell_type": "code",
   "execution_count": null,
   "metadata": {},
   "outputs": [],
   "source": [
    "# 基本の繰り返し処理\n",
    "l = ['Alice', 'Bob', 'Charlie']\n",
    "\n",
    "i = 0\n",
    "# 変数iがリストlの数よりも小さい場合のみ繰り返す\n",
    "# len(l)は3なので、iが3になった時点でwhileの条件から外れて繰り返し終了になる\n",
    "while i < len(l):\n",
    "    print(f'i : {i} {l[i]}')\n",
    "    \n",
    "    i+=1"
   ]
  },
  {
   "cell_type": "code",
   "execution_count": null,
   "metadata": {},
   "outputs": [],
   "source": [
    "# 途中で終了する「break」\n",
    "l = ['Alice', 'Bob', 'Charlie']\n",
    "i = 0\n",
    "# 変数iがリストlの数よりも小さい場合のみ繰り返す\n",
    "# whileの条件はTrueなのでそのままだと無限ループになる\n",
    "while True:\n",
    "    print(f'i : {i} {l[i]}')\n",
    "    \n",
    "    if l[i] == 'Bob':\n",
    "        break\n",
    "    \n",
    "    i += 1"
   ]
  },
  {
   "cell_type": "code",
   "execution_count": null,
   "metadata": {},
   "outputs": [],
   "source": [
    "# 無限ループ防止\n",
    "MAX_LOOP = 0\n",
    "\n",
    "l = ['Alice', 'Bob', 'Charlie']\n",
    "i = 0\n",
    "# 変数iがリストlの数よりも小さい場合のみ繰り返す\n",
    "while (i < len(l)) & (MAX_LOOP < 10):\n",
    "    print(f'i : {i} {l[i]}')\n",
    "    \n",
    "    if l[i] == 'Bob':\n",
    "        break\n",
    "    \n",
    "    # ここに「i += 1 」がなかった場合、無限ループになる\n",
    "    \n",
    "    MAX_LOOP += 1\n"
   ]
  },
  {
   "cell_type": "markdown",
   "metadata": {},
   "source": [
    "## 関数の定義と呼び出し"
   ]
  },
  {
   "cell_type": "code",
   "execution_count": null,
   "metadata": {},
   "outputs": [],
   "source": [
    "# 関数の定義と呼び出し\n",
    "def add(a, b):\n",
    "    x = a + b\n",
    "    return x\n",
    "\n",
    "x = add(3, 4)\n",
    "print(x)"
   ]
  },
  {
   "cell_type": "code",
   "execution_count": null,
   "metadata": {},
   "outputs": [],
   "source": [
    "# 引数の指定方法\n",
    "def func(a, b, c):\n",
    "    print(f'a={a}, b={b}, c={c}')\n",
    "\n",
    "# 位置で指定する位置引数\n",
    "func(1, 10, 100)        # 第1引数に1, 第2引数に10, 第3引数に100\n",
    "\n",
    "# キーワードで指定するキーワード引数\n",
    "func(b=10, c=100, a=1)  # aに1, bに10, cに100"
   ]
  },
  {
   "cell_type": "code",
   "execution_count": null,
   "metadata": {},
   "outputs": [],
   "source": [
    "# デフォルト値の設定\n",
    "def func_default(a, b, c=100):\n",
    "    print(f'a={a}, b={b}, c={c}')\n",
    "\n",
    "func_default(1, 10, 200)    # aに1, bに10, cに200\n",
    "\n",
    "func_default(1, 10)         # aに1, bに10, cは渡されていないのでデフォルトの100"
   ]
  },
  {
   "cell_type": "markdown",
   "metadata": {},
   "source": [
    "## 例外処理"
   ]
  },
  {
   "cell_type": "code",
   "execution_count": null,
   "metadata": {},
   "outputs": [],
   "source": [
    "# 例外 : 起きてはならない事象。処理中に障害として発生し、何もしないとソフトウェア自体落ちる状況に陥る。\n",
    "# 　　   そのためtry, exceptという機能を用いて例外を監視し、もしも例外が発生した場合はそれを捕捉、\n",
    "# 　　   ソフトウェアが落ちないよう実装する。\n",
    "\n",
    "# 0による除算\n",
    "try:    # try の内部の処理を監視し、例外が発生したらexceptでキャッチして対応した処置を行う。\n",
    "        # exceptの後ろに例外のタイプが指定されていた場合はそのタイプの例外にのみ対応する。\n",
    "    print(1 / 0)\n",
    "except ZeroDivisionError:\n",
    "    print('Error')"
   ]
  },
  {
   "cell_type": "code",
   "execution_count": null,
   "metadata": {},
   "outputs": [],
   "source": [
    "# 複数の例外への対応\n",
    "def divide_each(a, b):\n",
    "    try:\n",
    "        print(a / b)\n",
    "    except ZeroDivisionError as e:\n",
    "        print('catch ZeroDivisionError:', e)\n",
    "    except TypeError as e:\n",
    "        print('catch TypeError:', e)\n",
    "\n",
    "divide_each(1, 0)       # 0除算：ZeroDivisionErrorの発生\n",
    "\n",
    "divide_each('a', 'b')   # 計算に文字列を代入：TypeErrorの発生"
   ]
  },
  {
   "cell_type": "code",
   "execution_count": null,
   "metadata": {},
   "outputs": [],
   "source": [
    "# 全ての例外への対応\n",
    "def divide_wildcard(a, b):\n",
    "    try:\n",
    "        print(a / b)\n",
    "    except: # キャッチするエラーを指定しないことで全ての例外をキャッチする。\n",
    "        print('Error')\n",
    "\n",
    "divide_wildcard(1, 0)\n",
    "\n",
    "divide_wildcard('a', 'b')"
   ]
  },
  {
   "cell_type": "code",
   "execution_count": null,
   "metadata": {},
   "outputs": [],
   "source": [
    "# 全ての例外への対応 : 全ての例外の基底クラスExceptionの使用\n",
    "def divide_exception(a, b):\n",
    "    try:\n",
    "        print(a / b)\n",
    "    except Exception as e:\n",
    "        print(e)\n",
    "\n",
    "divide_exception(1, 0)\n",
    "\n",
    "divide_exception('a', 'b')"
   ]
  }
 ],
 "metadata": {
 },
 "nbformat": 4,
 "nbformat_minor": 2
}
